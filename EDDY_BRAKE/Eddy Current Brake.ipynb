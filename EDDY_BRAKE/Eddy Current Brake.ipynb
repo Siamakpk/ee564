{
 "cells": [
  {
   "cell_type": "heading",
   "metadata": {
    "collapsed": true
   },
   "level": 1,
   "source": [
    "Eddy Current Braking sytem Design\n",
    "EE564 Project"
   ]
  },
  {
   "cell_type": "heading",
   "metadata": {},
   "level": 4,
   "source": [
    "The project aims to design a Eddy current braking system.\n",
    "The eddy current brake shoud apply force on a rotating disk with these dimensions:\n",
    "Outer Diameter: 50mm\n",
    "Axial Length: 25mm\n"
   ]
  },
  {
   "cell_type": "heading",
   "metadata": {},
   "level": 4,
   "source": [
    "The requested torque-speed specifications is: \n",
    "3 Nm at 1620rpm and 1 Nm at 900rpm"
   ]
  },
  {
   "cell_type": "heading",
   "metadata": {},
   "level": 5,
   "source": [
    "The basic consideration of the brake is shown in the bellow figure:"
   ]
  },
  {
   "cell_type": "code",
   "execution_count": null,
   "metadata": {},
   "outputs": [],
   "source": [
    "i = Image.open('basic.jpeg')"
   ]
  }
 ],
 "metadata": {
  "kernelspec": {
   "display_name": "Python 2",
   "language": "python",
   "name": "python2"
  },
  "language_info": {
   "codemirror_mode": {
    "name": "ipython",
    "version": 2.0
   },
   "file_extension": ".py",
   "mimetype": "text/x-python",
   "name": "python",
   "nbconvert_exporter": "python",
   "pygments_lexer": "ipython2",
   "version": "2.7.6"
  }
 },
 "nbformat": 4,
 "nbformat_minor": 0
}