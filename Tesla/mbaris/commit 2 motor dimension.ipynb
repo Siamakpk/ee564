{
 "cells": [
  {
   "cell_type": "markdown",
   "metadata": {},
   "source": [
    "#Motor dimensions"
   ]
  },
  {
   "cell_type": "markdown",
   "metadata": {},
   "source": [
    "There are two traction motor so the torque and the power must be divided to two.\n",
    "\n",
    "**270kW/2=135 kW**\n",
    "\n",
    "**406Nm/2=203 Nm**\n",
    "\n",
    "The motors are 3 phase\n",
    "\n",
    "I assumed that efficiency≅0.9 due to that “Tesla's electric motor is not just a great generator of torque - it is able to create torque efficiently. The Roadster achieves an overall driving efficiency of 88%, about three times the efficiency of a conventional car.” \n",
    "\n",
    "if efficiency of the car is %88, motor efficiency would be %94 but i selected %90 \n",
    "http://my.teslamotors.com/roadster/technology/motor\n"
   ]
  },
  {
   "cell_type": "markdown",
   "metadata": {},
   "source": [
    "**Ds=**stator inner diameter  \n",
    "\n",
    "**leff=**core effective lenght\n",
    "\n",
    "**p=**pole number (not pole pair)\n",
    "\n",
    "**ns**=stator speed rpm\n",
    "\n",
    "**A=**electrical loading\n",
    "\n",
    "**m=** # of phases (3 phases)\n",
    "\n",
    "####I assumed that flux is sinusoidal\n"
   ]
  },
  {
   "cell_type": "markdown",
   "metadata": {},
   "source": [
    "f=(p*n_s)/120"
   ]
  },
  {
   "cell_type": "markdown",
   "metadata": {},
   "source": [
    "##$x=\\frac{p*ns}{120}$"
   ]
  },
  {
   "cell_type": "markdown",
   "metadata": {},
   "source": [
    "##$\\frac{S}{n_{eff}*cosθ}$=$\\ m*V _{phase}*I_ {phase} $"
   ]
  },
  {
   "cell_type": "markdown",
   "metadata": {},
   "source": [
    "##$I_{phase}=\\frac{(A*π*D_s)}{(2*N_s*m)}$"
   ]
  },
  {
   "cell_type": "markdown",
   "metadata": {},
   "source": [
    "##$\\ V _{phase} $=$ N_s*2*pi*f*k_w*B_{max}*\\frac{2}{pi}*\\frac{pi*D_s}{p}*l_{eff}*I_{phase}*\\frac1{{\\sqrt{2}}}$"
   ]
  },
  {
   "cell_type": "markdown",
   "metadata": {},
   "source": [
    "## $\\frac{S}{(n_{eff}*cosθ*k_w} )=\\frac{√2 π^2}{120*}n_s*B_{max}*A*D_s^2* l_{eff}$"
   ]
  },
  {
   "cell_type": "markdown",
   "metadata": {},
   "source": [
    "I assumed that B_max=0.8 at airgap and A=40000 kA/m"
   ]
  },
  {
   "cell_type": "code",
   "execution_count": 8,
   "metadata": {
    "collapsed": false
   },
   "outputs": [
    {
     "name": "stdout",
     "output_type": "stream",
     "text": [
      "0.00829223309196\n"
     ]
    }
   ],
   "source": [
    "import math\n",
    "pi=3.1415927\n",
    "Vm=135000/0.9/0.9/0.9/math.sqrt(2)/(pi**2)*120/6000/0.8/40000 #Vm Ds^2*leff\n",
    "print Vm # m^3"
   ]
  },
  {
   "cell_type": "markdown",
   "metadata": {},
   "source": [
    "##$ \\frac{D_s-2g}{l_{eff}}=\\frac {pi}{p}*(p/2)^{1/3} $\n"
   ]
  },
  {
   "cell_type": "code",
   "execution_count": 22,
   "metadata": {
    "collapsed": false
   },
   "outputs": [
    {
     "name": "stdout",
     "output_type": "stream",
     "text": [
      "0.989539693232\n"
     ]
    }
   ],
   "source": [
    "p=4\n",
    "ratio=pi/p*((2)**(1.0/3.0)) # Dr/leff is ratio\n",
    "print ratio"
   ]
  },
  {
   "cell_type": "markdown",
   "metadata": {},
   "source": [
    "## $ D_s ≅l_{eff} $"
   ]
  },
  {
   "cell_type": "code",
   "execution_count": 38,
   "metadata": {
    "collapsed": false
   },
   "outputs": [
    {
     "name": "stdout",
     "output_type": "stream",
     "text": [
      "0.202406210427\n"
     ]
    }
   ],
   "source": [
    "Ds=Vm**(1.0/3.0)  #stator diameter in meter\n",
    "print Ds\n"
   ]
  },
  {
   "cell_type": "markdown",
   "metadata": {},
   "source": [
    "## $ σ_{tan}=\\frac {2T}{π*Ds^2*l}$"
   ]
  },
  {
   "cell_type": "code",
   "execution_count": 112,
   "metadata": {
    "collapsed": false
   },
   "outputs": [
    {
     "name": "stdout",
     "output_type": "stream",
     "text": [
      "16928.4505364\n"
     ]
    }
   ],
   "source": [
    "T=441.0/2.0 # due to double motor\n",
    "leff=Ds\n",
    "tangentialstress=2.0*T/(pi*Ds*Ds*leff)\n",
    "print tangentialstress # F/m2"
   ]
  },
  {
   "cell_type": "markdown",
   "metadata": {},
   "source": [
    "it is in the range of table 6.4 lecture book. 12000< tan.stress< 330000"
   ]
  },
  {
   "cell_type": "markdown",
   "metadata": {},
   "source": [
    "###grafik denemeleri"
   ]
  },
  {
   "cell_type": "code",
   "execution_count": 95,
   "metadata": {
    "collapsed": false
   },
   "outputs": [],
   "source": [
    "%matplotlib inline\n",
    "import matplotlib.pyplot as plt\n",
    "import numpy as np"
   ]
  },
  {
   "cell_type": "code",
   "execution_count": 177,
   "metadata": {
    "collapsed": false
   },
   "outputs": [
    {
     "name": "stdout",
     "output_type": "stream",
     "text": [
      "[ 0.          1.66666667  3.33333333  5.        ]\n"
     ]
    },
    {
     "data": {
      "image/png": "[encoded data removed]",
      "text/plain": [
       "<matplotlib.figure.Figure at 0xc690c18>"
      ]
     },
     "metadata": {},
     "output_type": "display_data"
    }
   ],
   "source": [
    "t = np.linspace(0.0,5.0,4);\n",
    "plt.plot(t,np.sin(t**2))\n",
    "fig = plt.plot(t,np.sin(t**2))\n",
    "from pylab import rcParams\n",
    "rcParams['figure.figsize'] = 4, 4\n",
    "print t"
   ]
  },
  {
   "cell_type": "markdown",
   "metadata": {},
   "source": [
    "## Airgap length Selection"
   ]
  },
  {
   "cell_type": "code",
   "execution_count": 113,
   "metadata": {
    "collapsed": false
   },
   "outputs": [
    {
     "name": "stdout",
     "output_type": "stream",
     "text": [
      "63.46017254\n"
     ]
    }
   ],
   "source": [
    "Speedperipheral=0.202*pi*6000/60\n",
    "print Speedperipheral # m/s"
   ]
  },
  {
   "cell_type": "markdown",
   "metadata": {},
   "source": [
    "**63.5 m/s < 100 m/s so eq. 6.26 in the book is not valid for the motor**"
   ]
  },
  {
   "cell_type": "markdown",
   "metadata": {},
   "source": [
    "Equation 6.24 for p>2 for 50 hertz machines"
   ]
  },
  {
   "cell_type": "markdown",
   "metadata": {},
   "source": [
    "##$ lg=\\frac{0.18+0.006*P^{0.4}}{1000} $ "
   ]
  },
  {
   "cell_type": "code",
   "execution_count": 118,
   "metadata": {
    "collapsed": false
   },
   "outputs": [
    {
     "name": "stdout",
     "output_type": "stream",
     "text": [
      "0.000856526414178\n",
      "0.856526414178\n"
     ]
    }
   ],
   "source": [
    "P=135000 # power output of the motor\n",
    "lg=(0.18 +0.006*P**0.4)/1000\n",
    "print lg  # meter\n",
    "print lg*1000"
   ]
  },
  {
   "cell_type": "markdown",
   "metadata": {},
   "source": [
    "Equation from B.E notes $ g=0.2+2√(D_s*l)≅0.604 mm $"
   ]
  },
  {
   "cell_type": "markdown",
   "metadata": {},
   "source": [
    "***I choose airgap as o.9 mm due to 200 hertz>50 hertz***"
   ]
  },
  {
   "cell_type": "code",
   "execution_count": 119,
   "metadata": {
    "collapsed": false
   },
   "outputs": [
    {
     "name": "stdout",
     "output_type": "stream",
     "text": [
      "0.200693157598\n"
     ]
    }
   ],
   "source": [
    "Dr=Ds-2*lg\n",
    "print Dr  # meter Diameter of the rotor"
   ]
  },
  {
   "cell_type": "markdown",
   "metadata": {},
   "source": [
    "## Choosing Slot Number"
   ]
  },
  {
   "cell_type": "markdown",
   "metadata": {},
   "source": [
    "1-In tesla, slot number is 48. \n",
    "\n",
    "2-From table 6.7 page 309      slot pitch for IM is 7-45mm\n",
    "\n",
    "3-From B.E notes slot-pitch must be greater 10-15 mm for mechanical considerations\n"
   ]
  },
  {
   "cell_type": "markdown",
   "metadata": {},
   "source": [
    "## I choose 10 mm as a limitation"
   ]
  },
  {
   "cell_type": "code",
   "execution_count": 122,
   "metadata": {
    "collapsed": false
   },
   "outputs": [
    {
     "name": "stdout",
     "output_type": "stream",
     "text": [
      "52.9898227593\n"
     ]
    }
   ],
   "source": [
    "slotnumber= Ds*pi/12*1000\n",
    "print slotnumber"
   ]
  },
  {
   "cell_type": "markdown",
   "metadata": {},
   "source": [
    "**multiple of 12 (3*4) is possible slot number which is smaller than 63. so possible slot numbers are 48,36,24 **"
   ]
  },
  {
   "cell_type": "markdown",
   "metadata": {},
   "source": [
    "48 and 36 is optimum slot number due to increasing slot number cause well distributed mmf in air gap and low harmonic content"
   ]
  },
  {
   "cell_type": "markdown",
   "metadata": {},
   "source": [
    "#### After comparison of kw value of 48 and 36 slot number will be choosen"
   ]
  },
  {
   "cell_type": "markdown",
   "metadata": {},
   "source": [
    "### 3.harmonics are destroyed by the motor winding so below the calculations of kw , ignore the second value(3.harmonics and multiples 9)"
   ]
  },
  {
   "cell_type": "code",
   "execution_count": 233,
   "metadata": {
    "collapsed": false
   },
   "outputs": [
    {
     "name": "stdout",
     "output_type": "stream",
     "text": [
      "[ 0.98085831 -0.8371526   0.59600684 -0.3323725   0.12176591 -0.01280916]\n",
      "[ 1  3  5  7  9 11]\n"
     ]
    }
   ],
   "source": [
    "#this is for #of slot 48 and 165 degree chording\n",
    "slotnumber= 48.0\n",
    "q=slotnumber/12.0\n",
    "x = np.arange(1,13,2)\n",
    "teta=180/(slotnumber/4)\n",
    "kd=(np.sin(x*180/slotnumber*q*math.pi/180))/(q*(np.sin(x*180/slotnumber*math.pi/180)))\n",
    "kc=np.sin(x*(180-teta)/2*math.pi/180)  \n",
    "print kd*kc\n",
    "print  x    # harmonic numbers         \n"
   ]
  },
  {
   "cell_type": "code",
   "execution_count": 235,
   "metadata": {
    "collapsed": false
   },
   "outputs": [
    {
     "name": "stdout",
     "output_type": "stream",
     "text": [
      "[ 0.95561177 -0.64072886  0.19443785  0.14131042 -0.22499406  0.09479093]\n",
      "[ 1  3  5  7  9 11]\n"
     ]
    }
   ],
   "source": [
    "#this is for #of slot 48 and 150 degree chording\n",
    "slotnumber= 48.0\n",
    "q=slotnumber/12.0\n",
    "x = np.arange(1,13,2)\n",
    "teta=180/(slotnumber/4)\n",
    "kd=(np.sin(x*180/slotnumber*q*math.pi/180))/(q*(np.sin(x*180/slotnumber*math.pi/180)))\n",
    "kc=np.sin(x*(180-2*teta)/2*math.pi/180)  \n",
    "print kd*kc\n",
    "print  x    # harmonic numbers     \n"
   ]
  },
  {
   "cell_type": "code",
   "execution_count": 236,
   "metadata": {
    "collapsed": false
   },
   "outputs": [
    {
     "name": "stdout",
     "output_type": "stream",
     "text": [
      "[ 0.91401444 -0.34675996 -0.287491    0.50442116 -0.2939689   0.03755456]\n",
      "[ 1  3  5  7  9 11]\n"
     ]
    }
   ],
   "source": [
    "#this is for #of slot 48 and 135 degree chording\n",
    "slotnumber= 48.0\n",
    "q=slotnumber/12.0\n",
    "x = np.arange(1,13,2)\n",
    "teta=180/(slotnumber/4)\n",
    "kd=(np.sin(x*180/slotnumber*q*math.pi/180))/(q*(np.sin(x*180/slotnumber*math.pi/180)))\n",
    "kc=np.sin(x*(180-3*teta)/2*math.pi/180)  \n",
    "print kd*kc\n",
    "print  x    # harmonic numbers     \n"
   ]
  },
  {
   "cell_type": "code",
   "execution_count": null,
   "metadata": {
    "collapsed": true
   },
   "outputs": [],
   "source": []
  },
  {
   "cell_type": "code",
   "execution_count": 256,
   "metadata": {
    "collapsed": false
   },
   "outputs": [
    {
     "name": "stdout",
     "output_type": "stream",
     "text": [
      "[  9.74833458e-01  -7.88675135e-01   4.89713144e-01  -1.91991900e-01\n",
      "  -1.63286240e-16   3.60215288e-02]\n",
      "[ 1  3  5  7  9 11]\n"
     ]
    }
   ],
   "source": [
    "#this is for #of slot 36 and 160 degree chording\n",
    "slotnumber= 36.0\n",
    "q=slotnumber/12.0\n",
    "x = np.arange(1,13,2)\n",
    "teta=180/(slotnumber/4)\n",
    "kd=(np.sin(x*180/slotnumber*q*math.pi/180))/(q*(np.sin(x*180/slotnumber*math.pi/180)))\n",
    "kc=np.sin(x*(180-1*teta)/2*math.pi/180)  \n",
    "print kd*kc\n",
    "print  x    # harmonic numbers     \n"
   ]
  },
  {
   "cell_type": "code",
   "execution_count": 257,
   "metadata": {
    "collapsed": false
   },
   "outputs": [
    {
     "name": "stdout",
     "output_type": "stream",
     "text": [
      "[ 0.93017526 -0.4553418  -0.13229532  0.43001657 -0.33333333  0.08067973]\n",
      "[ 1  3  5  7  9 11]\n"
     ]
    }
   ],
   "source": [
    "#this is for #of slot 36 and 140 degree chording\n",
    "slotnumber= 36.0\n",
    "q=slotnumber/12.0\n",
    "x = np.arange(1,13,2)\n",
    "teta=180/(slotnumber/4)\n",
    "kd=(np.sin(x*180/slotnumber*q*math.pi/180))/(q*(np.sin(x*180/slotnumber*math.pi/180)))\n",
    "kc=np.sin(x*(180-2*teta)/2*math.pi/180)  \n",
    "print kd*kc\n",
    "print  x    # harmonic numbers    "
   ]
  },
  {
   "cell_type": "markdown",
   "metadata": {},
   "source": [
    "**i analyzed the slot number effect on kw, the bigger machine means more slot then high first kw and low other harmonics** \n",
    "burasi bitmedi array yazmayi ogrenince"
   ]
  },
  {
   "cell_type": "code",
   "execution_count": 265,
   "metadata": {
    "collapsed": false
   },
   "outputs": [
    {
     "name": "stdout",
     "output_type": "stream",
     "text": [
      "[ 0.95523273 -0.63844146  0.19250943  0.1385629  -0.21776049  0.09023669]\n",
      "[ 1  3  5  7  9 11]\n"
     ]
    }
   ],
   "source": [
    "#EKSIK TAMAMLA\n",
    "slotnumber= 72.0\n",
    "q=slotnumber/12.0\n",
    "x = np.arange(1,13,2)\n",
    "x = np.arange(1,13,2)\n",
    "teta=180/(slotnumber/4)\n",
    "kd=(np.sin(x*180/slotnumber*q*math.pi/180))/(q*(np.sin(x*180/slotnumber*math.pi/180)))\n",
    "kc=np.sin(x*(180-3*teta)/2*math.pi/180)  \n",
    "print kd*kc\n",
    "print  x    # harmonic numbers  "
   ]
  },
  {
   "cell_type": "markdown",
   "metadata": {},
   "source": [
    "### slot number is chosen as a 48 and 150 degree chording (two slots)"
   ]
  },
  {
   "cell_type": "markdown",
   "metadata": {},
   "source": [
    "###kw=[ 0.95561177 ,  0.19443785,  0.14131042 ,  0.09479093] (1,5,7,11)"
   ]
  },
  {
   "cell_type": "code",
   "execution_count": null,
   "metadata": {
    "collapsed": true
   },
   "outputs": [],
   "source": []
  },
  {
   "cell_type": "markdown",
   "metadata": {},
   "source": [
    "\t\t\t\t\t\t\t\t\n",
    "\t\t\t\t\t\t\t\t\t\t\t\n",
    "\t\t\t\t\t\t\t\t\n",
    "\t\t\t\t\t\t\t\t\n",
    "\t\t\t\t\t\t\t\t\n",
    "\t\t\t\t\t\t\t\t\n",
    "\t\t\t\t\t\t\t\t\n",
    "\t\t\t\t\t\t\t\t\n",
    "\t\t\t\t\t\t\t\t\n",
    "\t\t\t\t\t\n",
    "\t\t\t\t\t\t\t\t\n",
    "\t\t\t\t\t\t\t\t\n",
    "\t\t\t\t\t\t\t\t\n",
    "\t\t\t\t\t\t\t\t\n",
    "\t\t\t\t\t\t\t\t\n",
    "\t\t\t\t\t\t\t\t\n"
   ]
  },
  {
   "cell_type": "code",
   "execution_count": 269,
   "metadata": {
    "collapsed": false
   },
   "outputs": [
    {
     "ename": "SyntaxError",
     "evalue": "invalid syntax (<ipython-input-269-d0dc848b5a37>, line 2)",
     "output_type": "error",
     "traceback": [
      "\u001b[1;36m  File \u001b[1;32m\"<ipython-input-269-d0dc848b5a37>\"\u001b[1;36m, line \u001b[1;32m2\u001b[0m\n\u001b[1;33m    plt.print np.sin(x**2)\u001b[0m\n\u001b[1;37m            ^\u001b[0m\n\u001b[1;31mSyntaxError\u001b[0m\u001b[1;31m:\u001b[0m invalid syntax\n"
     ]
    }
   ],
   "source": []
  },
  {
   "cell_type": "code",
   "execution_count": null,
   "metadata": {
    "collapsed": true
   },
   "outputs": [],
   "source": []
  }
 ],
 "metadata": {
  "kernelspec": {
   "display_name": "Python 2",
   "language": "python",
   "name": "python2"
  },
  "language_info": {
   "codemirror_mode": {
    "name": "ipython",
    "version": 2
   },
   "file_extension": ".py",
   "mimetype": "text/x-python",
   "name": "python",
   "nbconvert_exporter": "python",
   "pygments_lexer": "ipython2",
   "version": "2.7.9"
  }
 },
 "nbformat": 4,
 "nbformat_minor": 0
}
